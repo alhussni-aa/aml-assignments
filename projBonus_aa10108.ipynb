{
 "cells": [
  {
   "cell_type": "markdown",
   "metadata": {},
   "source": [
    "# Abdullah Alhussni - aa10108\n",
    "## Applied Machine Learning - ENGR-UH 3332 - Bonus Project"
   ]
  },
  {
   "cell_type": "markdown",
   "metadata": {},
   "source": [
    "### Relevant libraries"
   ]
  },
  {
   "cell_type": "code",
   "execution_count": 1,
   "metadata": {},
   "outputs": [
    {
     "name": "stderr",
     "output_type": "stream",
     "text": [
      "2024-12-10 06:58:48.356874: I tensorflow/core/platform/cpu_feature_guard.cc:193] This TensorFlow binary is optimized with oneAPI Deep Neural Network Library (oneDNN) to use the following CPU instructions in performance-critical operations:  SSE4.1 SSE4.2 AVX AVX2 FMA\n",
      "To enable them in other operations, rebuild TensorFlow with the appropriate compiler flags.\n"
     ]
    }
   ],
   "source": [
    "import numpy as np\n",
    "from keras.datasets import mnist\n",
    "from PIL import Image\n",
    "import matplotlib.pyplot as plt"
   ]
  },
  {
   "cell_type": "markdown",
   "metadata": {},
   "source": [
    "### Functions we'll use"
   ]
  },
  {
   "cell_type": "code",
   "execution_count": 2,
   "metadata": {},
   "outputs": [],
   "source": [
    "def conv3(x, y): # hardcoded for f = 3, p = 0, s = 1, and an input with one channel\n",
    "    a = np.zeros(shape = (x.shape[0] - 2, x.shape[1] - 2))\n",
    "    for i in range(a.shape[0]):\n",
    "        for j in range(a.shape[1]):\n",
    "            a[i][j] = np.sum(x[i:i + 3, j:j + 3] * y)\n",
    "    return a\n",
    "\n",
    "def sigmoid(x):\n",
    "    return 1 / (1 + np.exp(-x))\n",
    "\n",
    "def sigmoid_deriv(x):\n",
    "    return sigmoid(x) * (1 - sigmoid(x))\n",
    "\n",
    "def avg_pool(x):  # hardcoded for f = 2, p = 0, s = 2\n",
    "    a = np.zeros(shape = (x.shape[0], x.shape[1] // 2, x.shape[2] // 2))\n",
    "    for c in range(a.shape[0]):\n",
    "        for i in range(a.shape[1]):\n",
    "            for j in range(a.shape[2]):\n",
    "                a[c, i, j] = np.sum(x[c, 2 * i:2 * i + 2, 2 * j:2 * j + 2]) / 4\n",
    "    return a\n",
    "\n",
    "def flatten(x):\n",
    "    return x.reshape(np.prod(x.shape))\n",
    "\n",
    "def conv1(x, y):\n",
    "    num_filters = y.shape[-1]\n",
    "    a = np.zeros((1, 1, num_filters))\n",
    "\n",
    "    for k in range(num_filters):\n",
    "        a[0, 0, k] = np.sum(x * y[0, 0, :, k])\n",
    "\n",
    "    return a\n",
    "\n",
    "def softmax(x):\n",
    "    exp_x = np.exp(x - np.max(x))  # prevents overflow\n",
    "    return exp_x / np.sum(exp_x)\n",
    "\n",
    "def cross_entropy_loss(predictions, labels):\n",
    "    return -np.sum(labels * np.log(predictions + 1e-9))  # add epsilon to avoid log(0)\n",
    "\n",
    "def onehot(y):\n",
    "    one_hot = np.zeros((y.size, 10))\n",
    "    one_hot[np.arange(y.size), y] = 1\n",
    "    return one_hot"
   ]
  },
  {
   "cell_type": "markdown",
   "metadata": {},
   "source": [
    "### The network structure\n",
    "#### Per batch/sample:\n",
    "\n",
    "- Input: 28x28x1\n",
    "- Output of the 3x3 Convolution: 26x26x2\n",
    "-- (We're using two channels for the output, and using the formula for output size, we get o = (i + 2 * p - f)  / s + 1 = (28 + 2 * 0 - 3) / 1 + 1 = 26)\n",
    "- Output of the sigmoid activation is the same: 26x26x2\n",
    "- Output of the average pooling: 13x13x2\n",
    "- Output of the flattening: 338 (or 338x1x1)\n",
    "-- (13 * 13 * 2)\n",
    "- Output of the 1x1 Convolution: 1x1x10\n",
    "- Output of the softmax activation is the same: 1x1x10"
   ]
  },
  {
   "cell_type": "code",
   "execution_count": null,
   "metadata": {},
   "outputs": [],
   "source": [
    "class CNN(): # to save computation, I just hard coded the numbers here, but including self.X = X_train would have done the same, I included the formulae\n",
    "    def __init__(self):\n",
    "        self.conv3 = np.random.randn(3, 3, 2) / 3 # / 3 = np.sqrt(2 / (3 * 3 * 2)) # better initialization\n",
    "        self.flat_shape = 338 # 2 * ((self.X.shape[1] - 2) // 2) ** 2\n",
    "        self.conv1 = np.random.randn(1, 1, 338, 10) / 13 # * np.sqrt(2 / self.flat_shape) # better initialization\n",
    "        self.bias = np.random.randn(1, 1, 1, 10)\n",
    "        self.pre_pool_shape = (2, 26, 26)\n",
    "        self.avg_pool_shape = (2, 13, 13)\n",
    "        self.input_image = None\n",
    "        self.post_conv3 = None\n",
    "        self.pre_pool = None\n",
    "        self.flattened_input = None\n",
    "\n",
    "    def first(self, inp):\n",
    "        return np.array([conv3(inp, self.conv3[:, :, 0]), conv3(inp, self.conv3[:, :, 1])])\n",
    "        \n",
    "    def final(self, inp):\n",
    "        return conv1(inp, self.conv1) + self.bias\n",
    "    \n",
    "    def forward(self, x):\n",
    "        self.input_image = x\n",
    "        x = self.first(x)   # shape: (2, 26, 26)\n",
    "        self.post_conv3 = x\n",
    "        x = sigmoid(x)       # still (2, 26, 26)\n",
    "        self.pre_pool = x\n",
    "        x = avg_pool(x)      # shape: (2, 13, 13)\n",
    "        x = flatten(x)       # shape: (338,)\n",
    "        self.flattened_input = x\n",
    "        x = self.final(x)    # shape: (1,1,10), after conv1 and bias add\n",
    "        x = softmax(x)\n",
    "        return x.reshape(10,) # return as a flat vector of length 10\n",
    "\n",
    "    def backward(self, predictions, labels, learning_rate):\n",
    "        # predictions and labels are now both (10,) vectors\n",
    "        d_softmax = predictions - labels  # shape: (10,)\n",
    "\n",
    "        # backprop for conv1 weights\n",
    "        d_conv1_weights = np.outer(self.flattened_input, d_softmax).reshape(self.conv1.shape)\n",
    "        self.conv1 -= learning_rate * d_conv1_weights\n",
    "\n",
    "        # backprop for bias\n",
    "        d_bias = d_softmax.reshape(self.bias.shape)\n",
    "        self.bias -= learning_rate * d_bias\n",
    "\n",
    "        # backprop to flattened layer\n",
    "        # self.conv1 shape: (1, 1, 338, 10)\n",
    "        # extract weights as a matrix: (338, 10)\n",
    "        W = self.conv1[0, 0, :, :]\n",
    "        d_flatten = np.dot(d_softmax, W.T)  # shape: (338,)\n",
    "\n",
    "        # reshape to match avg_pool output shape (2, 13, 13)\n",
    "        d_avg_pool = d_flatten.reshape(self.avg_pool_shape)\n",
    "\n",
    "        # backprop through avg_pool\n",
    "        d_pool = np.zeros_like(self.pre_pool)\n",
    "        for c in range(d_pool.shape[0]):\n",
    "            for i in range(d_avg_pool.shape[1]):\n",
    "                for j in range(d_avg_pool.shape[2]):\n",
    "                    h_start, h_end = i * 2, i * 2 + 2\n",
    "                    w_start, w_end = j * 2, j * 2 + 2\n",
    "                    d_pool[c, h_start:h_end, w_start:w_end] += d_avg_pool[c, i, j] / 4\n",
    "\n",
    "        # check shapes\n",
    "        if d_pool.shape != self.post_conv3.shape:\n",
    "            raise ValueError(f\"Shape mismatch: d_pool {d_pool.shape} and post_conv3 {self.post_conv3.shape}\")\n",
    "\n",
    "        # backprop through sigmoid\n",
    "        d_sigmoid = d_pool * sigmoid_deriv(self.post_conv3)\n",
    "\n",
    "        # backprop through conv3\n",
    "        d_conv3 = np.zeros(self.conv3.shape) # shape: (3, 3, 2)\n",
    "        for k in range(self.conv3.shape[-1]):\n",
    "            for i in range(26 - 2):\n",
    "                for j in range(26 - 2):\n",
    "                    d_conv3[:, :, k] += d_sigmoid[k, i, j] * self.input_image[i:i + 3, j:j + 3]\n",
    "\n",
    "        self.conv3 -= learning_rate * d_conv3\n",
    "\n",
    "    def train(self, learning_rate, epochs, X_train, y_train, X_test, y_test):\n",
    "        trainingloss = []\n",
    "        testloss = []\n",
    "        for epoch in range(epochs):\n",
    "            indices = np.arange(len(X_train))\n",
    "            np.random.shuffle(indices)\n",
    "            X_train = X_train[indices]\n",
    "            y_train = y_train[indices]\n",
    "\n",
    "            avg_train_loss = 0\n",
    "            # training loop\n",
    "            for i in range(len(X_train)):\n",
    "                x_sample = X_train[i]\n",
    "                y_sample = y_train[i] # this should be a one-hot vector of length 10\n",
    "                predictions = self.forward(x_sample) # shape: (10,)\n",
    "                loss = cross_entropy_loss(predictions, y_sample)\n",
    "                self.backward(predictions, y_sample, learning_rate)\n",
    "                avg_train_loss += loss\n",
    "            trainingloss.append(avg_train_loss / len(X_train))\n",
    "\n",
    "            # testing loop\n",
    "            avg_test_loss = 0\n",
    "            for i in range(len(X_test)):\n",
    "                preds = self.forward(X_test[i])  # (10,)\n",
    "                # y_test[i] should also be one-hot\n",
    "                loss = cross_entropy_loss(preds, y_test[i])\n",
    "                avg_test_loss += loss\n",
    "            testloss.append(avg_test_loss / len(X_test))\n",
    "\n",
    "            print(f\"Epoch {epoch + 1}: Training Loss = {avg_train_loss / len(X_train)}, Test Loss = {avg_test_loss / len(X_test)}\")\n",
    "\n",
    "        return trainingloss, testloss\n",
    "    \n",
    "    def accuracy(self, X_test, y_test):\n",
    "        count = 0\n",
    "        for i in range(len(y_test)):\n",
    "            preds = self.forward(X_test[i])  # preds is now (10,)\n",
    "            y_pred = np.argmax(preds)\n",
    "            if y_pred == y_test[i]:\n",
    "                count += 1\n",
    "        return count / len(y_test)\n",
    "\n",
    "    def restart(self):\n",
    "        self.conv3 = np.random.randn(3, 3, 2) / 3\n",
    "        self.conv1 = np.random.randn(1, 1, 338, 10) / 13\n",
    "        self.bias = np.random.randn(1, 1, 1, 10)\n",
    "        self.input_image = None\n",
    "        self.post_conv3 = None\n",
    "        self.pre_pool = None\n",
    "        self.flattened_input = None"
   ]
  },
  {
   "cell_type": "code",
   "execution_count": 4,
   "metadata": {},
   "outputs": [
    {
     "name": "stdout",
     "output_type": "stream",
     "text": [
      "Epoch 1: Training Loss = 1.04436188375831, Test Loss = 0.571956648282366\n",
      "Epoch 2: Training Loss = 0.5145370909958373, Test Loss = 0.4466421691774978\n",
      "Epoch 3: Training Loss = 0.43733606483456317, Test Loss = 0.40126777232658467\n",
      "Epoch 4: Training Loss = 0.40096199051774, Test Loss = 0.3703085355595393\n",
      "Epoch 5: Training Loss = 0.3783321816873301, Test Loss = 0.35017211923901526\n",
      "Epoch 6: Training Loss = 0.3622766651523854, Test Loss = 0.3393788409452844\n",
      "Epoch 7: Training Loss = 0.34962988487713376, Test Loss = 0.3286840609648948\n",
      "Epoch 8: Training Loss = 0.3392661147928321, Test Loss = 0.31743303720895466\n",
      "Epoch 9: Training Loss = 0.330563124661479, Test Loss = 0.30999017229075126\n",
      "Epoch 10: Training Loss = 0.3228771216085192, Test Loss = 0.3022563654685403\n"
     ]
    }
   ],
   "source": [
    "(X_train, y_train), (X_test, y_test) = mnist.load_data()\n",
    "\n",
    "X_train = X_train.astype(np.float32) / 255.0\n",
    "X_test = X_test.astype(np.float32) / 255.0\n",
    "\n",
    "Y_train = onehot(y_train)\n",
    "Y_test = onehot(y_test)\n",
    "\n",
    "mnistCNN = CNN()\n",
    "n_epochs = 10\n",
    "eta = 0.001\n",
    "trainingloss, testloss = mnistCNN.train(eta, n_epochs, X_train, Y_train, X_test, Y_test)"
   ]
  },
  {
   "cell_type": "code",
   "execution_count": 5,
   "metadata": {},
   "outputs": [
    {
     "name": "stdout",
     "output_type": "stream",
     "text": [
      "The accuracy on the test data after 10 epochs is 91.63%\n"
     ]
    }
   ],
   "source": [
    "accuracy = mnistCNN.accuracy(X_test, y_test)\n",
    "print(f\"The accuracy on the test data after {n_epochs} epochs is {accuracy:.2%}\")\n",
    "mnistCNN.restart()"
   ]
  },
  {
   "cell_type": "code",
   "execution_count": 6,
   "metadata": {},
   "outputs": [
    {
     "data": {
      "image/png": "[encoded data removed]",
      "text/plain": [
       "<Figure size 640x480 with 1 Axes>"
      ]
     },
     "metadata": {},
     "output_type": "display_data"
    }
   ],
   "source": [
    "plt.plot(trainingloss, marker = 'o')\n",
    "plt.title(\"Training Loss Over Epochs\")\n",
    "plt.xlabel(\"Epochs\")\n",
    "plt.ylabel(\"Loss\")\n",
    "plt.grid(True)\n",
    "plt.show()"
   ]
  },
  {
   "cell_type": "code",
   "execution_count": 7,
   "metadata": {},
   "outputs": [
    {
     "data": {
      "image/png": "[encoded data removed]",
      "text/plain": [
       "<Figure size 640x480 with 1 Axes>"
      ]
     },
     "metadata": {},
     "output_type": "display_data"
    }
   ],
   "source": [
    "plt.plot(testloss, marker = 'o')\n",
    "plt.title(\"Test Loss Over Epochs\")\n",
    "plt.xlabel(\"Epochs\")\n",
    "plt.ylabel(\"Loss\")\n",
    "plt.grid(True)\n",
    "plt.show()"
   ]
  }
 ],
 "metadata": {
  "kernelspec": {
   "display_name": "keras_env",
   "language": "python",
   "name": "python3"
  },
  "language_info": {
   "codemirror_mode": {
    "name": "ipython",
    "version": 3
   },
   "file_extension": ".py",
   "mimetype": "text/x-python",
   "name": "python",
   "nbconvert_exporter": "python",
   "pygments_lexer": "ipython3",
   "version": "3.9.18"
  }
 },
 "nbformat": 4,
 "nbformat_minor": 2
}
