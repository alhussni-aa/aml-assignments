{
 "cells": [
  {
   "cell_type": "markdown",
   "metadata": {},
   "source": [
    "# Abdullah Alhussni - aa10108\n",
    "## Applied Machine Learning - ENGR-UH 3332 - DL Project 1"
   ]
  },
  {
   "cell_type": "code",
   "execution_count": 2,
   "metadata": {},
   "outputs": [],
   "source": [
    "from __future__ import division\n",
    "\n",
    "import warnings\n",
    "from collections import namedtuple\n",
    "import torch\n",
    "import torch.nn as nn\n",
    "from torch.jit.annotations import Optional, Tuple\n",
    "from torch import Tensor\n",
    "import torch.optim as optim\n",
    "import os\n",
    "import numpy as np\n",
    "import os.path\n",
    "from glob import glob\n",
    "from PIL import Image\n",
    "from tqdm import tqdm\n",
    "import torchvision.datasets as dset\n",
    "import torch.utils.data as data\n",
    "from ipywidgets import IntProgress\n",
    "from torchvision import transforms\n",
    "import matplotlib.pyplot as plt"
   ]
  },
  {
   "cell_type": "code",
   "execution_count": 3,
   "metadata": {},
   "outputs": [
    {
     "name": "stdout",
     "output_type": "stream",
     "text": [
      "cuda\n"
     ]
    }
   ],
   "source": [
    "if torch.cuda.is_available():\n",
    "    device = torch.device('cuda')\n",
    "else: \n",
    "    device = 'cpu'\n",
    "\n",
    "print(device)"
   ]
  },
  {
   "cell_type": "code",
   "execution_count": 6,
   "metadata": {},
   "outputs": [],
   "source": [
    "learning_rate = 0.01\n",
    "trainBatchSize = 20\n",
    "testBatchSize = 20\n",
    "num_epochs = 50\n",
    "\n",
    "os.makedirs(\"../data\", exist_ok = True)"
   ]
  },
  {
   "cell_type": "code",
   "execution_count": 7,
   "metadata": {},
   "outputs": [],
   "source": [
    "train_transform = transforms.Compose([transforms.RandomHorizontalFlip(), transforms.ToTensor()])\n",
    "test_transform = transforms.Compose([transforms.ToTensor()])"
   ]
  },
  {
   "cell_type": "markdown",
   "metadata": {},
   "source": [
    "# Data Loader"
   ]
  },
  {
   "cell_type": "code",
   "execution_count": 8,
   "metadata": {},
   "outputs": [
    {
     "name": "stdout",
     "output_type": "stream",
     "text": [
      "Downloading https://www.cs.toronto.edu/~kriz/cifar-10-python.tar.gz to ../data/cifar-10-python.tar.gz\n"
     ]
    },
    {
     "name": "stderr",
     "output_type": "stream",
     "text": [
      "100%|██████████| 170M/170M [01:50<00:00, 1.54MB/s] \n"
     ]
    },
    {
     "name": "stdout",
     "output_type": "stream",
     "text": [
      "Extracting ../data/cifar-10-python.tar.gz to ../data\n",
      "Files already downloaded and verified\n"
     ]
    }
   ],
   "source": [
    "train_set = dset.CIFAR10(root='../data', train=True, download=True, transform=train_transform)\n",
    "train_loader = data.DataLoader(dataset=train_set, batch_size=trainBatchSize, shuffle=True)\n",
    "test_set = dset.CIFAR10(root='../data', train=False, download=True, transform=test_transform)\n",
    "test_loader = data.DataLoader(dataset=test_set, batch_size=testBatchSize, shuffle=False)"
   ]
  },
  {
   "cell_type": "markdown",
   "metadata": {},
   "source": [
    "# Inception"
   ]
  },
  {
   "cell_type": "code",
   "execution_count": 6,
   "metadata": {},
   "outputs": [],
   "source": [
    "class Inception(nn.Module):\n",
    "    def __init__(self, in_planes, kernel_1_x, kernel_3_in, kernel_3_x, kernel_5_in, kernel_5_x, pool_planes):\n",
    "        super(Inception, self).__init__()\n",
    "        # 1x1 conv branch\n",
    "        self.b1 = nn.Sequential(\n",
    "            nn.Conv2d(in_planes, kernel_1_x, kernel_size = 1),\n",
    "            nn.BatchNorm2d(kernel_1_x),\n",
    "            nn.ReLU(True),\n",
    "        )\n",
    "\n",
    "        # 1x1 conv -> 3x3 conv branch\n",
    "        self.b2 = nn.Sequential(\n",
    "            nn.Conv2d(in_planes, kernel_3_in, kernel_size = 1),\n",
    "            nn.BatchNorm2d(kernel_3_in),\n",
    "            nn.ReLU(True),\n",
    "            nn.Conv2d(kernel_3_in, kernel_3_x, kernel_size = 3, padding = 1),\n",
    "            nn.BatchNorm2d(kernel_3_x),\n",
    "            nn.ReLU(True),\n",
    "        )\n",
    "\n",
    "        # 1x1 conv -> 5x5 conv branch\n",
    "        self.b3 = nn.Sequential(\n",
    "            nn.Conv2d(in_planes, kernel_5_in, kernel_size = 1),\n",
    "            nn.BatchNorm2d(kernel_5_in),\n",
    "            nn.ReLU(True),\n",
    "            nn.Conv2d(kernel_5_in, kernel_5_x, kernel_size = 5, padding = 2),\n",
    "            nn.BatchNorm2d(kernel_5_x),\n",
    "            nn.ReLU(True),\n",
    "        )\n",
    "\n",
    "        # 3x3 max pool -> 1x1 conv branch\n",
    "        self.b4 = nn.Sequential(\n",
    "            nn.MaxPool2d(kernel_size = 3, stride = 1, padding = 1),\n",
    "            nn.Conv2d(in_planes, pool_planes, kernel_size = 1),\n",
    "            nn.BatchNorm2d(pool_planes),\n",
    "            nn.ReLU(True),\n",
    "        )\n",
    "\n",
    "    def forward(self, x):\n",
    "        return torch.cat([self.b1(x), self.b2(x), self.b3(x), self.b4(x)], dim = 1)"
   ]
  },
  {
   "cell_type": "markdown",
   "metadata": {},
   "source": [
    "# GoogLeNet"
   ]
  },
  {
   "cell_type": "code",
   "execution_count": 7,
   "metadata": {},
   "outputs": [],
   "source": [
    "class GoogLeNet(nn.Module):\n",
    "    def __init__(self, num_classes):\n",
    "        super(GoogLeNet, self).__init__()\n",
    "        \n",
    "        self.num_classes = num_classes\n",
    "\n",
    "        self.first = nn.Sequential(\n",
    "            nn.Conv2d(in_channels = 3, out_channels = 192, kernel_size = 3, stride = 1, padding = 1),\n",
    "            nn.BatchNorm2d(192),\n",
    "            nn.ReLU(True),\n",
    "        )\n",
    "\n",
    "        # Inception Modules\n",
    "        self.inception3a = Inception(192, 64, 96, 128, 16, 32, 32)\n",
    "        self.inception3b = Inception(256, 128, 128, 192, 32, 96, 64)\n",
    "        self.maxpool = nn.MaxPool2d(3, stride = 2, padding = 1)\n",
    "\n",
    "        self.inception4a = Inception(480, 192, 96, 208, 16, 48, 64)\n",
    "        self.inception4b = Inception(512, 160, 112, 224, 24, 64, 64)\n",
    "        self.inception4c = Inception(512, 128, 128, 256, 24, 64, 64)\n",
    "        self.inception4d = Inception(512, 112, 144, 288, 32, 64, 64)\n",
    "        self.inception4e = Inception(528, 256, 160, 320, 32, 128, 128)\n",
    "\n",
    "        self.inception5a = Inception(832, 256, 160, 320, 32, 128, 128)\n",
    "        self.inception5b = Inception(832, 384, 192, 384, 48, 128, 128)\n",
    "\n",
    "        self.avgpool = nn.AdaptiveAvgPool2d((1, 1))\n",
    "        self.flat = nn.Linear(1024, self.num_classes)\n",
    "\n",
    "    def forward(self, x):\n",
    "        x = self.first(x)\n",
    "\n",
    "        x = self.inception3a(x)\n",
    "        x = self.inception3b(x)\n",
    "        x = self.maxpool(x)\n",
    "\n",
    "        x = self.inception4a(x)\n",
    "        x = self.inception4b(x)\n",
    "        x = self.inception4c(x)\n",
    "        x = self.inception4d(x)\n",
    "        x = self.inception4e(x)\n",
    "        x = self.maxpool(x)\n",
    "\n",
    "        x = self.inception5a(x)\n",
    "        x = self.inception5b(x)\n",
    "\n",
    "        x = self.avgpool(x)\n",
    "        x = torch.flatten(x, 1)\n",
    "        x = self.flat(x)\n",
    "\n",
    "        return x"
   ]
  },
  {
   "cell_type": "markdown",
   "metadata": {},
   "source": [
    "# The model"
   ]
  },
  {
   "cell_type": "code",
   "execution_count": 8,
   "metadata": {},
   "outputs": [],
   "source": [
    "model = GoogLeNet(num_classes = 10).to(device)"
   ]
  },
  {
   "cell_type": "code",
   "execution_count": 9,
   "metadata": {},
   "outputs": [],
   "source": [
    "optimizer = optim.Adam(model.parameters(), lr = learning_rate)\n",
    "criterion = nn.CrossEntropyLoss()\n",
    "scheduler = optim.lr_scheduler.StepLR(optimizer, step_size = 50, gamma = 0.5)"
   ]
  },
  {
   "cell_type": "markdown",
   "metadata": {},
   "source": [
    "# Training function\n",
    "## Returns loss and accuracy"
   ]
  },
  {
   "cell_type": "code",
   "execution_count": 10,
   "metadata": {},
   "outputs": [],
   "source": [
    "def train(model, train_loader, optimizer, criterion):\n",
    "    model.train()\n",
    "    train_loss, correct, total = 0, 0, 0\n",
    "\n",
    "    for inputs, targets in train_loader:\n",
    "        inputs, targets = inputs.to(device), targets.to(device)\n",
    "        \n",
    "        optimizer.zero_grad()\n",
    "        outputs = model(inputs)\n",
    "        loss = criterion(outputs, targets)\n",
    "        loss.backward()\n",
    "        optimizer.step()\n",
    "\n",
    "        train_loss += loss.item()\n",
    "        _, predicted = outputs.max(1)\n",
    "        total += targets.size(0)\n",
    "        correct += predicted.eq(targets).sum().item()\n",
    "\n",
    "    acc = 100. * correct / total\n",
    "    avg_loss = train_loss / len(train_loader)\n",
    "    print(f'Train Loss: {avg_loss:.3f}, Accuracy: {acc:.2f}%')\n",
    "    return avg_loss"
   ]
  },
  {
   "cell_type": "markdown",
   "metadata": {},
   "source": [
    "# Testing function\n",
    "## Returns loss and accuracy"
   ]
  },
  {
   "cell_type": "code",
   "execution_count": 11,
   "metadata": {},
   "outputs": [],
   "source": [
    "def test(model, test_loader, criterion):\n",
    "    model.eval()\n",
    "    test_loss, correct, total = 0, 0, 0\n",
    "\n",
    "    with torch.no_grad():\n",
    "        for inputs, targets in test_loader:\n",
    "            inputs, targets = inputs.to(device), targets.to(device)\n",
    "            outputs = model(inputs)\n",
    "            loss = criterion(outputs, targets)\n",
    "\n",
    "            test_loss += loss.item()\n",
    "            _, predicted = outputs.max(1)\n",
    "            total += targets.size(0)\n",
    "            correct += predicted.eq(targets).sum().item()\n",
    "\n",
    "    acc = 100. * correct / total\n",
    "    avg_loss = test_loss / len(test_loader)\n",
    "    print(f'Test Loss: {avg_loss:.3f}, Accuracy: {acc:.2f}%')\n",
    "    return avg_loss"
   ]
  },
  {
   "cell_type": "code",
   "execution_count": null,
   "metadata": {},
   "outputs": [
    {
     "name": "stdout",
     "output_type": "stream",
     "text": [
      "Epoch 1/50\n",
      "Train Loss: 1.580, Accuracy: 40.80%\n",
      "Test Loss: 1.149, Accuracy: 59.02%\n",
      "Epoch 2/50\n",
      "Train Loss: 0.986, Accuracy: 65.18%\n",
      "Test Loss: 0.810, Accuracy: 71.26%\n",
      "Epoch 3/50\n",
      "Train Loss: 0.750, Accuracy: 74.17%\n",
      "Test Loss: 0.676, Accuracy: 76.22%\n",
      "Epoch 4/50\n",
      "Train Loss: 0.636, Accuracy: 78.06%\n",
      "Test Loss: 0.614, Accuracy: 78.76%\n",
      "Epoch 5/50\n",
      "Train Loss: 0.553, Accuracy: 81.04%\n",
      "Test Loss: 0.652, Accuracy: 77.73%\n",
      "Epoch 6/50\n",
      "Train Loss: 0.494, Accuracy: 83.05%\n",
      "Test Loss: 0.515, Accuracy: 82.51%\n",
      "Epoch 7/50\n",
      "Train Loss: 0.445, Accuracy: 84.43%\n",
      "Test Loss: 0.497, Accuracy: 83.30%\n",
      "Epoch 8/50\n",
      "Train Loss: 0.399, Accuracy: 86.22%\n",
      "Test Loss: 0.455, Accuracy: 84.18%\n",
      "Epoch 9/50\n",
      "Train Loss: 0.364, Accuracy: 87.44%\n",
      "Test Loss: 0.467, Accuracy: 83.95%\n",
      "Epoch 10/50\n",
      "Train Loss: 0.333, Accuracy: 88.46%\n",
      "Test Loss: 0.441, Accuracy: 84.66%\n",
      "Epoch 11/50\n",
      "Train Loss: 0.306, Accuracy: 89.28%\n",
      "Test Loss: 0.429, Accuracy: 86.07%\n",
      "Epoch 12/50\n",
      "Train Loss: 0.278, Accuracy: 90.34%\n",
      "Test Loss: 0.468, Accuracy: 85.61%\n",
      "Epoch 13/50\n",
      "Train Loss: 0.260, Accuracy: 90.93%\n",
      "Test Loss: 0.429, Accuracy: 86.09%\n",
      "Epoch 14/50\n",
      "Train Loss: 0.236, Accuracy: 91.82%\n",
      "Test Loss: 0.435, Accuracy: 86.28%\n",
      "Epoch 15/50\n",
      "Train Loss: 0.221, Accuracy: 92.26%\n",
      "Test Loss: 0.451, Accuracy: 85.97%\n",
      "Epoch 16/50\n",
      "Train Loss: 0.205, Accuracy: 92.85%\n",
      "Test Loss: 0.380, Accuracy: 88.00%\n",
      "Epoch 17/50\n",
      "Train Loss: 0.187, Accuracy: 93.50%\n",
      "Test Loss: 0.398, Accuracy: 87.52%\n",
      "Epoch 18/50\n",
      "Train Loss: 0.176, Accuracy: 93.76%\n",
      "Test Loss: 0.393, Accuracy: 88.38%\n",
      "Epoch 19/50\n",
      "Train Loss: 0.165, Accuracy: 94.21%\n",
      "Test Loss: 0.400, Accuracy: 88.09%\n",
      "Epoch 20/50\n",
      "Train Loss: 0.153, Accuracy: 94.68%\n",
      "Test Loss: 0.440, Accuracy: 87.14%\n",
      "Epoch 21/50\n",
      "Train Loss: 0.142, Accuracy: 95.07%\n",
      "Test Loss: 0.445, Accuracy: 87.77%\n",
      "Epoch 22/50\n",
      "Train Loss: 0.134, Accuracy: 95.33%\n",
      "Test Loss: 0.403, Accuracy: 88.67%\n",
      "Epoch 23/50\n",
      "Train Loss: 0.127, Accuracy: 95.46%\n",
      "Test Loss: 0.441, Accuracy: 87.68%\n",
      "Epoch 24/50\n",
      "Train Loss: 0.123, Accuracy: 95.71%\n",
      "Test Loss: 0.399, Accuracy: 88.36%\n",
      "Epoch 25/50\n",
      "Train Loss: 0.115, Accuracy: 95.97%\n",
      "Test Loss: 0.472, Accuracy: 87.46%\n",
      "Epoch 26/50\n",
      "Train Loss: 0.108, Accuracy: 96.23%\n",
      "Test Loss: 0.412, Accuracy: 89.14%\n",
      "Epoch 27/50\n",
      "Train Loss: 0.106, Accuracy: 96.27%\n",
      "Test Loss: 0.496, Accuracy: 87.75%\n",
      "Epoch 28/50\n",
      "Train Loss: 0.098, Accuracy: 96.52%\n",
      "Test Loss: 0.414, Accuracy: 88.86%\n",
      "Epoch 29/50\n",
      "Train Loss: 0.091, Accuracy: 96.79%\n",
      "Test Loss: 0.465, Accuracy: 87.97%\n",
      "Epoch 30/50\n",
      "Train Loss: 0.089, Accuracy: 96.92%\n",
      "Test Loss: 0.490, Accuracy: 87.93%\n",
      "Epoch 31/50\n",
      "Train Loss: 0.089, Accuracy: 96.91%\n",
      "Test Loss: 0.434, Accuracy: 88.83%\n",
      "Epoch 32/50\n",
      "Train Loss: 0.084, Accuracy: 97.11%\n",
      "Test Loss: 0.460, Accuracy: 88.96%\n",
      "Epoch 33/50\n",
      "Train Loss: 0.080, Accuracy: 97.26%\n",
      "Test Loss: 0.491, Accuracy: 88.59%\n",
      "Epoch 34/50\n",
      "Train Loss: 0.077, Accuracy: 97.41%\n",
      "Test Loss: 0.474, Accuracy: 88.39%\n",
      "Epoch 35/50\n",
      "Train Loss: 0.077, Accuracy: 97.30%\n",
      "Test Loss: 0.450, Accuracy: 88.61%\n",
      "Epoch 36/50\n",
      "Train Loss: 0.069, Accuracy: 97.62%\n",
      "Test Loss: 0.432, Accuracy: 89.37%\n",
      "Epoch 37/50\n",
      "Train Loss: 0.070, Accuracy: 97.53%\n",
      "Test Loss: 0.610, Accuracy: 87.04%\n",
      "Epoch 38/50\n",
      "Train Loss: 0.070, Accuracy: 97.59%\n",
      "Test Loss: 0.471, Accuracy: 88.86%\n",
      "Epoch 39/50\n",
      "Train Loss: 0.066, Accuracy: 97.67%\n",
      "Test Loss: 0.484, Accuracy: 89.27%\n",
      "Epoch 40/50\n",
      "Train Loss: 0.065, Accuracy: 97.78%\n",
      "Test Loss: 0.547, Accuracy: 87.42%\n",
      "Epoch 41/50\n",
      "Train Loss: 0.062, Accuracy: 97.82%\n",
      "Test Loss: 0.487, Accuracy: 89.11%\n",
      "Epoch 42/50\n",
      "Train Loss: 0.062, Accuracy: 97.91%\n",
      "Test Loss: 0.474, Accuracy: 89.23%\n",
      "Epoch 43/50\n",
      "Train Loss: 0.059, Accuracy: 97.95%\n",
      "Test Loss: 0.503, Accuracy: 88.36%\n",
      "Epoch 44/50\n",
      "Train Loss: 0.057, Accuracy: 98.05%\n",
      "Test Loss: 0.479, Accuracy: 89.47%\n",
      "Epoch 45/50\n",
      "Train Loss: 0.059, Accuracy: 98.03%\n",
      "Test Loss: 0.522, Accuracy: 88.33%\n",
      "Epoch 46/50\n",
      "Train Loss: 0.055, Accuracy: 98.11%\n",
      "Test Loss: 0.524, Accuracy: 89.11%\n",
      "Epoch 47/50\n",
      "Train Loss: 0.055, Accuracy: 98.15%\n",
      "Test Loss: 0.484, Accuracy: 88.78%\n",
      "Epoch 48/50\n",
      "Train Loss: 0.053, Accuracy: 98.22%\n",
      "Test Loss: 0.515, Accuracy: 88.97%\n",
      "Epoch 49/50\n",
      "Train Loss: 0.052, Accuracy: 98.20%\n",
      "Test Loss: 0.486, Accuracy: 89.34%\n",
      "Epoch 50/50\n",
      "Train Loss: 0.052, Accuracy: 98.24%\n",
      "Test Loss: 0.501, Accuracy: 89.28%\n"
     ]
    },
    {
     "data": {
      "image/png": "[encoded data removed]",
      "text/plain": [
       "<Figure size 1000x500 with 1 Axes>"
      ]
     },
     "metadata": {},
     "output_type": "display_data"
    }
   ],
   "source": [
    "train_losses = []\n",
    "test_losses = []\n",
    "\n",
    "for epoch in range(num_epochs):\n",
    "    print(f'Epoch {epoch + 1}/{num_epochs}')\n",
    "\n",
    "    train_loss = train(model, train_loader, optimizer, criterion)\n",
    "    test_loss = test(model, test_loader, criterion)\n",
    "\n",
    "    train_losses.append(train_loss)\n",
    "    test_losses.append(test_loss)\n",
    "    \n",
    "    scheduler.step()\n",
    "\n",
    "torch.save(model.state_dict(), \"../data/projDL1/cifar10_googlenet.pth\")\n",
    "\n",
    "plt.figure(figsize = (10, 5))\n",
    "plt.plot(range(1, num_epochs + 1), train_losses, label = 'Training Loss')\n",
    "plt.plot(range(1, num_epochs + 1), test_losses, label = 'Testing Loss')\n",
    "plt.xlabel('Epoch')\n",
    "plt.ylabel('Loss')\n",
    "plt.title('Training and Testing Loss Over Epochs')\n",
    "plt.legend()\n",
    "plt.show()"
   ]
  }
 ],
 "metadata": {
  "kernelspec": {
   "display_name": "aml",
   "language": "python",
   "name": "python3"
  },
  "language_info": {
   "codemirror_mode": {
    "name": "ipython",
    "version": 3
   },
   "file_extension": ".py",
   "mimetype": "text/x-python",
   "name": "python",
   "nbconvert_exporter": "python",
   "pygments_lexer": "ipython3",
   "version": "3.9.19"
  }
 },
 "nbformat": 4,
 "nbformat_minor": 2
}
