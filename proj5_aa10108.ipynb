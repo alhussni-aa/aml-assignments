{
 "cells": [
  {
   "cell_type": "markdown",
   "metadata": {},
   "source": [
    "# Abdullah Alhussni - aa10108\n",
    "## Applied Machine Learning - ENGR-UH 3332 - Project 5"
   ]
  },
  {
   "cell_type": "code",
   "execution_count": 143,
   "metadata": {},
   "outputs": [],
   "source": [
    "from sklearn.datasets import load_digits\n",
    "import matplotlib.pyplot as plt\n",
    "import numpy as np\n",
    "import pandas as pd\n",
    "from sklearn.model_selection import train_test_split\n",
    "from sklearn.preprocessing import StandardScaler\n",
    "from sklearn.metrics import accuracy_score"
   ]
  },
  {
   "cell_type": "code",
   "execution_count": 144,
   "metadata": {},
   "outputs": [],
   "source": [
    "def sigmoid(x):\n",
    "    return 1 / (1 + np.exp(-x))\n",
    "\n",
    "def sigmoid_deriv(x):\n",
    "    return sigmoid(x) * (1 - sigmoid(x))\n",
    "\n",
    "def ReLU(x):\n",
    "    return np.maximum(0, x)\n",
    "\n",
    "def ReLU_deriv(x):\n",
    "    return 1 * (x >= 0)\n",
    "\n",
    "def tanH(x):\n",
    "    return np.tanh(x)\n",
    "\n",
    "def tanH_deriv(x):\n",
    "    return 1 - tanH(x)**2\n",
    "\n",
    "def onehot(y):\n",
    "    onehot = np.zeros((y.size, y.max()+1))\n",
    "    onehot[np.arange(y.size), y] = 1\n",
    "    return onehot\n",
    "\n",
    "class Neural_Network:\n",
    "    def __init__(self, X, y, n_hidden):\n",
    "        self.X = X\n",
    "        self.y = onehot(y)\n",
    "        self.y_pred = np.zeros(self.y.shape)\n",
    "        self.n_hidden = n_hidden\n",
    "        self.activ_func = None\n",
    "        self.activ_deriv = None\n",
    "        self.n_input = self.X.shape[1]\n",
    "        self.n_output = self.y.shape[1]\n",
    "        self.weights1 = np.random.randn(self.n_input, self.n_hidden) * np.sqrt(1 / self.n_input) # normalizing the weights improved the accuracy by 10%\n",
    "        self.bias1 = np.zeros((1, self.n_hidden))\n",
    "        self.weights2 = np.random.randn(self.n_hidden, self.n_output) * np.sqrt(1 / self.n_hidden)\n",
    "        self.bias2 = np.zeros((1, self.n_output))\n",
    "        self.Z1 = np.zeros((self.X.shape[0], self.n_hidden))\n",
    "        self.A1 = np.zeros((self.X.shape[0], self.n_hidden))\n",
    "        self.Z2 = np.zeros((self.X.shape[0], self.n_output))\n",
    "        self.A2 = np.zeros((self.X.shape[0], self.n_output))\n",
    "\n",
    "    def feedforward(self, activ_func, X = None):\n",
    "        if X is None:\n",
    "            self.Z1 = np.dot(self.X, self.weights1) + self.bias1\n",
    "            self.A1 = activ_func(self.Z1)\n",
    "            self.Z2 = np.dot(self.A1, self.weights2) + self.bias2\n",
    "            self.A2 = activ_func(self.Z2)\n",
    "            self.y_pred = self.A2\n",
    "        else:\n",
    "            self.Z1 = np.dot(X, self.weights1) + self.bias1\n",
    "            self.A1 = activ_func(self.Z1)\n",
    "            self.Z2 = np.dot(self.A1, self.weights2) + self.bias2\n",
    "            self.A2 = activ_func(self.Z2)\n",
    "            y_test = self.A2\n",
    "            return y_test\n",
    "\n",
    "    def backpropagation(self, activ_deriv, eta):\n",
    "        dEdyh = self.y_pred - self.y\n",
    "        dyhdZ2 = activ_deriv(self.Z2)\n",
    "        dZ2dW2 = self.A1\n",
    "        dZ2dA1 = self.weights2\n",
    "        dA1dZ1 = activ_deriv(self.Z1)\n",
    "        dZ1dW1 = self.X\n",
    "\n",
    "        dEdw2 = np.dot(dZ2dW2.T, dEdyh * dyhdZ2)\n",
    "        dEdw1 = np.dot(dZ1dW1.T, np.dot(dEdyh * dyhdZ2, dZ2dA1.T) * dA1dZ1)\n",
    "        dEdb2 = np.sum(dEdyh * dyhdZ2, axis = 0)\n",
    "        dEdb1 = np.sum(np.dot(dEdyh * dyhdZ2, dZ2dA1.T) * dA1dZ1, axis = 0)\n",
    "\n",
    "        self.weights2 -= eta * dEdw2\n",
    "        self.weights1 -= eta * dEdw1\n",
    "        self.bias2 -= eta * dEdb2\n",
    "        self.bias1 -= eta * dEdb1\n",
    "\n",
    "    def train(self, activ_func, activ_deriv, eta, n_epochs):\n",
    "        self.activ_func = activ_func\n",
    "        self.activ_deriv = activ_deriv\n",
    "        for i in range(n_epochs):\n",
    "            self.feedforward(activ_func)\n",
    "            self.backpropagation(activ_deriv, eta)\n",
    "    \n",
    "    def restart(self):\n",
    "        self.weights1 = np.random.randn(self.n_input, self.n_hidden) * np.sqrt(1 / self.n_input)\n",
    "        self.bias1 = np.zeros((1, self.n_hidden))\n",
    "        self.weights2 = np.random.randn(self.n_hidden, self.n_output) * np.sqrt(1 / self.n_hidden)\n",
    "        self.bias2 = np.zeros((1, self.n_output))\n",
    "        self.Z1 = np.zeros((self.X.shape[0], self.n_hidden))\n",
    "        self.A1 = np.zeros((self.X.shape[0], self.n_hidden))\n",
    "        self.Z2 = np.zeros((self.X.shape[0], self.n_output))\n",
    "        self.A2 = np.zeros((self.X.shape[0], self.n_output))\n",
    "        self.y_pred = np.zeros(self.y.shape)\n",
    "        self.activ_func = None\n",
    "        self.activ_deriv = None\n",
    "\n",
    "    def accuracy(self, X_test, y_test):\n",
    "        y_pred = self.feedforward(self.activ_func, X_test)\n",
    "        y_pred = np.argmax(y_pred, axis = 1)\n",
    "        return accuracy_score(y_test, y_pred)"
   ]
  },
  {
   "cell_type": "code",
   "execution_count": 145,
   "metadata": {},
   "outputs": [
    {
     "data": {
      "image/png": "[encoded data removed]",
      "text/plain": [
       "<Figure size 640x480 with 1 Axes>"
      ]
     },
     "metadata": {},
     "output_type": "display_data"
    }
   ],
   "source": [
    "X, y = load_digits(return_X_y = True)\n",
    "\n",
    "X_train, X_test, y_train, y_test = train_test_split(X, y, test_size = 0.2, random_state = 0)\n",
    "\n",
    "sample_digit = X[np.random.randint(0, X.shape[0]), :]\n",
    "sample_digit = sample_digit.reshape(8, 8)\n",
    "\n",
    "plt.imshow(sample_digit, cmap = 'gray')\n",
    "plt.title(\"Digit visualization\")\n",
    "plt.show()\n",
    "\n",
    "scaler = StandardScaler()\n",
    "\n",
    "X_train = scaler.fit_transform(X_train)\n",
    "X_test = scaler.transform(X_test)"
   ]
  },
  {
   "cell_type": "code",
   "execution_count": 146,
   "metadata": {},
   "outputs": [
    {
     "name": "stdout",
     "output_type": "stream",
     "text": [
      "Accuracy for Sigmoid: 96.67%\n",
      "Accuracy for ReLU: 28.06%\n",
      "Accuracy for tanh: 95.56%\n"
     ]
    }
   ],
   "source": [
    "nn = Neural_Network(X_train, y_train, 30)\n",
    "\n",
    "n_epochs = 1000\n",
    "\n",
    "eta = 0.001\n",
    "\n",
    "nn.train(sigmoid, sigmoid_deriv, eta, n_epochs)\n",
    "\n",
    "print(f\"Accuracy for Sigmoid: {100 * nn.accuracy(X_test, y_test):.2f}%\")\n",
    "\n",
    "nn.restart()\n",
    "\n",
    "nn.train(ReLU, ReLU_deriv, eta, n_epochs)\n",
    "\n",
    "print(f\"Accuracy for ReLU: {100 * nn.accuracy(X_test, y_test):.2f}%\")\n",
    "\n",
    "nn.restart()\n",
    "\n",
    "nn.train(tanH, tanH_deriv, eta, n_epochs)\n",
    "\n",
    "print(f\"Accuracy for tanh: {100 * nn.accuracy(X_test, y_test):.2f}%\")\n",
    "\n",
    "nn.restart()"
   ]
  },
  {
   "cell_type": "markdown",
   "metadata": {},
   "source": [
    "It seems that ReLU is not providing very good accuracy scores, while tanh and sigmoid are providing similar good results, with sigmoid giving a slightly higher accuracy for the most part. We will stick with sigmoid for the rest of our experiments on hyperparameters."
   ]
  },
  {
   "cell_type": "code",
   "execution_count": 147,
   "metadata": {},
   "outputs": [
    {
     "name": "stdout",
     "output_type": "stream",
     "text": [
      "Accuracy: 97.22%\n"
     ]
    }
   ],
   "source": [
    "n_epochs = 10000\n",
    "\n",
    "eta = 0.0001\n",
    "\n",
    "nn.train(sigmoid, sigmoid_deriv, eta, n_epochs)\n",
    "\n",
    "print(f\"Accuracy: {100 * nn.accuracy(X_test, y_test):.2f}%\")\n",
    "\n",
    "nn.restart()"
   ]
  },
  {
   "cell_type": "code",
   "execution_count": 148,
   "metadata": {},
   "outputs": [
    {
     "name": "stdout",
     "output_type": "stream",
     "text": [
      "Accuracy: 58.61%\n"
     ]
    }
   ],
   "source": [
    "n_epochs = 1000\n",
    "\n",
    "eta = 0.01\n",
    "\n",
    "nn.train(sigmoid, sigmoid_deriv, eta, n_epochs)\n",
    "\n",
    "print(f\"Accuracy: {100 * nn.accuracy(X_test, y_test):.2f}%\")\n",
    "\n",
    "nn.restart()"
   ]
  },
  {
   "cell_type": "code",
   "execution_count": 149,
   "metadata": {},
   "outputs": [
    {
     "name": "stdout",
     "output_type": "stream",
     "text": [
      "Accuracy: 96.94%\n"
     ]
    }
   ],
   "source": [
    "n_epochs = 1000\n",
    "\n",
    "eta = 0.001\n",
    "\n",
    "nn.train(sigmoid, sigmoid_deriv, eta, n_epochs)\n",
    "\n",
    "print(f\"Accuracy: {100 * nn.accuracy(X_test, y_test):.2f}%\")\n",
    "\n",
    "nn.restart()"
   ]
  },
  {
   "cell_type": "code",
   "execution_count": 150,
   "metadata": {},
   "outputs": [
    {
     "name": "stdout",
     "output_type": "stream",
     "text": [
      "Accuracy: 97.50%\n"
     ]
    }
   ],
   "source": [
    "n_epochs = 10000\n",
    "\n",
    "eta = 0.001\n",
    "\n",
    "nn.train(sigmoid, sigmoid_deriv, eta, n_epochs)\n",
    "\n",
    "print(f\"Accuracy: {100 * nn.accuracy(X_test, y_test):.2f}%\")\n",
    "\n",
    "nn.restart()"
   ]
  },
  {
   "cell_type": "markdown",
   "metadata": {},
   "source": [
    "It seems that eta = 0.001 is a good value (or something in the range of 10^-4 and 10^-3). It's converging around 1000 epochs, although going up to 10000 could increase the accuracy. It will fall somewhere around 96-98% anyway."
   ]
  }
 ],
 "metadata": {
  "kernelspec": {
   "display_name": "aml",
   "language": "python",
   "name": "python3"
  },
  "language_info": {
   "codemirror_mode": {
    "name": "ipython",
    "version": 3
   },
   "file_extension": ".py",
   "mimetype": "text/x-python",
   "name": "python",
   "nbconvert_exporter": "python",
   "pygments_lexer": "ipython3",
   "version": "3.9.19"
  }
 },
 "nbformat": 4,
 "nbformat_minor": 2
}
