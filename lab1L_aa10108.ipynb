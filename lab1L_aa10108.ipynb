{
 "cells": [
  {
   "cell_type": "markdown",
   "id": "41e935f1-9fd6-4389-bf97-62e8f379b77b",
   "metadata": {},
   "source": [
    "# Abdullah Alhussni - aa10108\n",
    "## Applied Machine Learning - ENGR-UH 3332 - Lab 1L"
   ]
  },
  {
   "cell_type": "code",
   "execution_count": 1,
   "id": "d87ed1ad-5570-4a98-9d4c-457eb9a31b15",
   "metadata": {},
   "outputs": [],
   "source": [
    "from sklearn.datasets import load_breast_cancer\n",
    "from sklearn.preprocessing import StandardScaler\n",
    "import matplotlib.pyplot as plt\n",
    "import numpy as np\n",
    "import pandas as pd\n",
    "from sklearn.model_selection import train_test_split\n",
    "from sklearn.metrics import precision_score\n",
    "from sklearn.metrics import recall_score\n",
    "from sklearn.metrics import f1_score\n",
    "from sklearn.metrics import accuracy_score\n",
    "from sklearn.metrics import confusion_matrix\n",
    "import matplotlib.pyplot as plt\n",
    "import numpy as np\n",
    "import warnings\n",
    "\n",
    "## Avoid printing out warnings\n",
    "with warnings.catch_warnings():\n",
    "     warnings.filterwarnings(\"ignore\")\n",
    "     bc = load_breast_cancer()\n",
    "     X, y = bc.data, bc.target\n",
    "\n",
    "X_train, X_test, y_train, y_test = train_test_split(X, y, test_size = 0.4, random_state = 42)\n",
    "\n",
    "scaler = StandardScaler()\n",
    "X_train_scaled = scaler.fit_transform(X_train)\n",
    "X_test_scaled = scaler.transform(X_test)\n",
    "\n",
    "# appending ones to the training and test data\n",
    "m_train = X_train_scaled.shape[0]\n",
    "X_train_scaled = np.append(X_train_scaled, np.ones((m_train, 1)), axis = 1)\n",
    "m_test = X_test_scaled.shape[0]\n",
    "X_test_scaled = np.append(X_test_scaled, np.ones((m_test, 1)), axis = 1)"
   ]
  },
  {
   "cell_type": "code",
   "execution_count": 2,
   "id": "f5f3eb4c-ac48-417a-8e97-5adfbe7392ac",
   "metadata": {},
   "outputs": [],
   "source": [
    "def sigmoid(X, theta):\n",
    "    z = np.dot(X, theta)\n",
    "    z = np.clip(z, -30, 30)  # I'm getting runtime errors despite scaling the values, so I decided to clip them\n",
    "    return 1 / (1 + np.exp(-z))\n",
    "\n",
    "def loss(X, y, theta): # or -log(likelihood)\n",
    "    loss = 0\n",
    "    for i in range(len(y)):\n",
    "        z = sigmoid(X[i, :], theta)\n",
    "        if y[i] == 1:\n",
    "            loss += -1 * np.log(z)\n",
    "        elif y[i] == 0:\n",
    "            loss += -1 * np.log(1 - z)\n",
    "    return loss\n",
    "\n",
    "def gradient_loss(X, y, theta):\n",
    "    return np.dot(sigmoid(X, theta) - y, X)\n",
    "\n",
    "def gradient_descent(eta, n_iterations, X, y, theta0):\n",
    "    loss_values = []\n",
    "    theta = theta0\n",
    "    loss_values.append(loss(X, y, theta))\n",
    "    for iteration in range(n_iterations):\n",
    "        y_pred = sigmoid(X, theta)\n",
    "        grad = gradient_loss(X, y, theta)\n",
    "        theta = theta - eta * grad\n",
    "        if iteration % 100 == 0:\n",
    "            loss_values.append(loss(X, y, theta))\n",
    "    return loss_values, theta\n",
    "\n",
    "def predict(X, theta, threshold):\n",
    "    return sigmoid(X, theta) - threshold >= 0"
   ]
  },
  {
   "cell_type": "code",
   "execution_count": 3,
   "id": "7749d1cc-1861-45ff-95df-3d1d9ff0d5bc",
   "metadata": {},
   "outputs": [
    {
     "name": "stdout",
     "output_type": "stream",
     "text": [
      "Final weights: [  8.11815092  -5.16354087  12.53472732  -1.69092609  -1.76602727\n",
      "  60.96242372 -32.15541526 -39.83635287  20.90710832 -23.95942029\n",
      " -64.07858808   2.86585406  24.85351732 -34.28438109   0.45941647\n",
      " -20.7785735   38.98144127 -36.01597639  22.75600913  26.08453018\n",
      " -17.55873995 -20.13779019  13.65099622 -19.66781626   8.47319283\n",
      "  16.37140626 -44.35603355 -25.2550481  -51.71848908  13.45688217\n",
      "  -5.19849106]\n"
     ]
    }
   ],
   "source": [
    "theta0 = np.random.randn(X.shape[1] + 1) # initializing weights\n",
    "\n",
    "eta = 0.5\n",
    "n_iterations = 5000\n",
    "threshold = 0.5\n",
    "\n",
    "loss_values, theta = gradient_descent(eta, n_iterations, X_train_scaled, y_train, theta0)\n",
    "print(\"Final weights:\", theta)\n",
    "\n",
    "y_pred = predict(X_test_scaled, theta, threshold)"
   ]
  },
  {
   "cell_type": "code",
   "execution_count": 4,
   "id": "cad22e73-d069-4352-bf22-c45151900a57",
   "metadata": {},
   "outputs": [
    {
     "name": "stdout",
     "output_type": "stream",
     "text": [
      "My Functions:\n",
      "Precision: 97.20%\n",
      "Recall: 93.92%\n",
      "Accuracy: 94.30%\n",
      "F1 Score: 95.53%\n",
      "          Predicted 0  Predicted 1\n",
      "Actual 0           76            4\n",
      "Actual 1            9          139\n",
      "\n",
      "\n",
      "Library Functions:\n",
      "Precision: 97.20%\n",
      "Recall: 93.92%\n",
      "Accuracy: 94.30%\n",
      "F1 Score: 95.53%\n",
      "Confusion Matrix:\n",
      "          Predicted 0  Predicted 1\n",
      "Actual 0           76            4\n",
      "Actual 1            9          139\n"
     ]
    }
   ],
   "source": [
    "# My own calculations to compare to the built-in functions:\n",
    "TP = np.sum((y_test == 1) & (y_pred == 1))\n",
    "FP = np.sum((y_test == 0) & (y_pred == 1))\n",
    "TN = np.sum((y_test == 0) & (y_pred == 0))\n",
    "FN = np.sum((y_test == 1) & (y_pred == 0))\n",
    "\n",
    "precision = TP / (TP + FP)\n",
    "recall = TP / (TP + FN)\n",
    "accuracy = (TP + TN) / (TP + FP + TN + FN)\n",
    "f1 = 2 * precision * recall / (precision + recall)\n",
    "conf_matrix = [[TN, FP], [FN, TP]]\n",
    "conf_matrix_df = pd.DataFrame(conf_matrix,\n",
    "                              index = ['Actual 0', 'Actual 1'],\n",
    "                              columns = ['Predicted 0', 'Predicted 1'])\n",
    "\n",
    "print(\"My Functions:\")\n",
    "print(f\"Precision: {precision:.2%}\")\n",
    "print(f\"Recall: {recall:.2%}\")\n",
    "print(f\"Accuracy: {accuracy:.2%}\")\n",
    "print(f\"F1 Score: {f1:.2%}\")\n",
    "print(conf_matrix_df)\n",
    "print(\"\\n\")\n",
    "print(\"Library Functions:\")\n",
    "\n",
    "precision = precision_score(y_test, y_pred)\n",
    "recall = recall_score(y_test, y_pred)\n",
    "accuracy = accuracy_score(y_test, y_pred)\n",
    "f1 = f1_score(y_test, y_pred)\n",
    "conf_matrix = confusion_matrix(y_test, y_pred)\n",
    "conf_matrix_df = pd.DataFrame(conf_matrix,\n",
    "                              index = ['Actual 0', 'Actual 1'],\n",
    "                              columns = ['Predicted 0', 'Predicted 1'])\n",
    "\n",
    "print(f\"Precision: {precision:.2%}\")\n",
    "print(f\"Recall: {recall:.2%}\")\n",
    "print(f\"Accuracy: {accuracy:.2%}\")\n",
    "print(f\"F1 Score: {f1:.2%}\")\n",
    "print(\"Confusion Matrix:\")\n",
    "print(conf_matrix_df)"
   ]
  },
  {
   "cell_type": "markdown",
   "id": "59168cdb-ea6b-49fa-ad47-4c3731c03ade",
   "metadata": {},
   "source": [
    "I did the calculations to verify the built-in functions, and the results are exact."
   ]
  },
  {
   "cell_type": "code",
   "execution_count": 5,
   "id": "ec8df793-b468-41d3-8fb3-aa430b0c50a5",
   "metadata": {},
   "outputs": [
    {
     "data": {
      "image/png": "[encoded data removed]",
      "text/plain": [
       "<Figure size 640x480 with 1 Axes>"
      ]
     },
     "metadata": {},
     "output_type": "display_data"
    }
   ],
   "source": [
    "plt.plot(range(n_iterations // 100 + 1), loss_values)\n",
    "plt.xlabel('Iterations (in 100s)')\n",
    "plt.ylabel('Loss')\n",
    "plt.title('Loss over Each 100 Iterations')\n",
    "plt.grid(True)\n",
    "plt.show()"
   ]
  },
  {
   "cell_type": "markdown",
   "id": "b3252419-b311-4be7-b4d5-1cbea512d843",
   "metadata": {},
   "source": [
    "# Testing Different Learning Rates and Maximum Iterations"
   ]
  },
  {
   "cell_type": "code",
   "execution_count": 6,
   "id": "ce5eb51b-c416-4667-8332-83f09a184351",
   "metadata": {},
   "outputs": [
    {
     "name": "stdout",
     "output_type": "stream",
     "text": [
      "Precision of training data for optimal eta: 99.32%\n",
      "Optimal eta: 3.162277660168379e-06\n",
      "Recall of training data for optimal eta: 98.65%\n",
      "Optimal eta: 3.162277660168379e-06\n",
      "Accuracy of training data for optimal eta: 98.68%\n",
      "Optimal eta: 3.162277660168379e-06\n",
      "f1 score of training data for optimal eta: 98.98%\n",
      "Optimal eta: 3.162277660168379e-06\n"
     ]
    }
   ],
   "source": [
    "eta = np.logspace(-7, 0, 15)\n",
    "\n",
    "precisions = []\n",
    "recalls = []\n",
    "accuracies = []\n",
    "f1_scores = []\n",
    "\n",
    "for i in range(len(eta)):\n",
    "    theta0 = np.random.randn(X.shape[1] + 1) # initializing weights\n",
    "    n_iterations = 2000 * (len(eta) - i)\n",
    "    loss_values, theta = gradient_descent(eta[i], int(n_iterations), X_train_scaled, y_train, theta0)\n",
    "    y_pred = predict(X_test_scaled, theta, threshold)\n",
    "    precisions.append(precision_score(y_test, y_pred))\n",
    "    recalls.append(recall_score(y_test, y_pred))\n",
    "    accuracies.append(accuracy_score(y_test, y_pred))\n",
    "    f1_scores.append(f1_score(y_test, y_pred))\n",
    "\n",
    "max_precision = np.max(precisions)\n",
    "i_optimal = np.argmax(precisions)\n",
    "max_recall = np.max(recalls)\n",
    "j_optimal = np.argmax(recalls)\n",
    "max_accuracy = np.max(accuracies)\n",
    "k_optimal = np.argmax(accuracies)\n",
    "max_f1_score = np.max(f1_scores)\n",
    "l_optimal = np.argmax(f1_scores)\n",
    "\n",
    "print(f\"Precision of training data for optimal eta: {max_precision * 100:.2f}%\")\n",
    "print(f\"Optimal eta: {eta[i_optimal]}\")\n",
    "print(f\"Recall of training data for optimal eta: {max_recall * 100:.2f}%\")\n",
    "print(f\"Optimal eta: {eta[j_optimal]}\")\n",
    "print(f\"Accuracy of training data for optimal eta: {max_accuracy * 100:.2f}%\")\n",
    "print(f\"Optimal eta: {eta[k_optimal]}\")\n",
    "print(f\"f1 score of training data for optimal eta: {max_f1_score * 100:.2f}%\")\n",
    "print(f\"Optimal eta: {eta[l_optimal]}\")"
   ]
  },
  {
   "cell_type": "markdown",
   "id": "944d89dc-38cf-4c23-91d7-9ad03eb300a2",
   "metadata": {},
   "source": [
    "Through many experiments and multiple criteria (precision, recall, accuracy, and f1 score), we realize eta = 0.00003 (or anything between 10^-5 and 10^-4) is approximately the best learning rate for logistic regression, for around 20k iterations, or at least for our current dataset. For eta = 0.5, it seems that loss stabilizes after 700 iterations, so running it for more than 1000 iterations is not efficient. n_iterations = 1000 would be ideal."
   ]
  },
  {
   "cell_type": "code",
   "execution_count": 7,
   "id": "a1374a66-b618-4204-9b82-f6bd4a6c8a32",
   "metadata": {},
   "outputs": [
    {
     "data": {
      "image/png": "[encoded data removed]",
      "text/plain": [
       "<Figure size 640x480 with 1 Axes>"
      ]
     },
     "metadata": {},
     "output_type": "display_data"
    }
   ],
   "source": [
    "theta0 = np.random.randn(X.shape[1] + 1) # initializing weights\n",
    "\n",
    "eta = 0.00003\n",
    "n_iterations = 50000\n",
    "threshold = 0.01\n",
    "\n",
    "loss_values, theta = gradient_descent(eta, n_iterations, X_train_scaled, y_train, theta0)\n",
    "\n",
    "y_pred = predict(X_test_scaled, theta, threshold)\n",
    "\n",
    "plt.plot(range(n_iterations // 100 + 1), loss_values)\n",
    "plt.xlabel('Iterations (in 100s)')\n",
    "plt.ylabel('Loss')\n",
    "plt.title('Loss over Each 100 Iterations')\n",
    "plt.grid(True)\n",
    "plt.show()"
   ]
  },
  {
   "cell_type": "code",
   "execution_count": 8,
   "id": "b6560759-4b74-440f-9a11-efbb2d369dc5",
   "metadata": {},
   "outputs": [
    {
     "name": "stdout",
     "output_type": "stream",
     "text": [
      "Precision: 91.93%\n",
      "Recall: 100.00%\n",
      "Accuracy: 94.30%\n",
      "F1 Score: 95.79%\n",
      "Confusion Matrix:\n",
      "          Predicted 0  Predicted 1\n",
      "Actual 0           67           13\n",
      "Actual 1            0          148\n"
     ]
    }
   ],
   "source": [
    "y_pred = predict(X_test_scaled, theta, threshold)\n",
    "precisions.append(precision_score(y_test, y_pred))\n",
    "recalls.append(recall_score(y_test, y_pred))\n",
    "accuracies.append(accuracy_score(y_test, y_pred))\n",
    "f1_scores.append(f1_score(y_test, y_pred))\n",
    "\n",
    "precision = precision_score(y_test, y_pred)\n",
    "recall = recall_score(y_test, y_pred)\n",
    "accuracy = accuracy_score(y_test, y_pred)\n",
    "f1 = f1_score(y_test, y_pred)\n",
    "conf_matrix = confusion_matrix(y_test, y_pred)\n",
    "conf_matrix_df = pd.DataFrame(conf_matrix,\n",
    "                              index = ['Actual 0', 'Actual 1'],\n",
    "                              columns = ['Predicted 0', 'Predicted 1'])\n",
    "\n",
    "print(f\"Precision: {precision:.2%}\")\n",
    "print(f\"Recall: {recall:.2%}\")\n",
    "print(f\"Accuracy: {accuracy:.2%}\")\n",
    "print(f\"F1 Score: {f1:.2%}\")\n",
    "print(\"Confusion Matrix:\")\n",
    "print(conf_matrix_df)"
   ]
  },
  {
   "cell_type": "markdown",
   "id": "95bfeeb6-597d-4163-9dbb-b9d3c0e0012a",
   "metadata": {},
   "source": [
    "We see a great increase in all criteria with the change of hyperparameters, and we can safely conclude that eta = 0.00003 and there isn't much increase in the criteria beyond n_iterations = 10000 (although loss decreases significantly, but without affecting the precision parameters), so we can choose that value. We notice how changing the threshold close to 1 increases precision and reduces other criteria, while changing it to a value close to 0 decreases precision and increases other criteria, especially recall. 0.5 seems like a good value, but in need of extra caution and more false positives than false negatives, we would seek higher recall and lower precision, which means even threshold = 0.01 (in other words, predicting 1% probability of breast cancer as positive), could be better. However, it depends on the objectives, so 0.01 is by no means the ideal threshold, but the one I deemed the best."
   ]
  }
 ],
 "metadata": {
  "kernelspec": {
   "display_name": "Python 3 (ipykernel)",
   "language": "python",
   "name": "python3"
  },
  "language_info": {
   "codemirror_mode": {
    "name": "ipython",
    "version": 3
   },
   "file_extension": ".py",
   "mimetype": "text/x-python",
   "name": "python",
   "nbconvert_exporter": "python",
   "pygments_lexer": "ipython3",
   "version": "3.9.19"
  }
 },
 "nbformat": 4,
 "nbformat_minor": 5
}
